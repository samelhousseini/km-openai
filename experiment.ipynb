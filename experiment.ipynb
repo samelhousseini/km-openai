{
 "cells": [
  {
   "attachments": {},
   "cell_type": "markdown",
   "metadata": {},
   "source": [
    "### Install Python Packages"
   ]
  },
  {
   "cell_type": "code",
   "execution_count": null,
   "metadata": {},
   "outputs": [],
   "source": [
    "!pip install azure-functions\n",
    "!pip install azure-core\n",
    "!pip install azure-cosmos\n",
    "!pip install openai\n",
    "!pip install numpy\n",
    "!pip install requests\n",
    "!pip install pandas\n",
    "!pip install azure-storage-blob \n",
    "!pip install azure-identity\n",
    "!pip install smart_open\n",
    "!pip install tenacity\n",
    "!pip install pinecone-client\n",
    "!pip install redis\n",
    "!pip install tiktoken\n",
    "!pip install azure-storage-file-share\n",
    "!pip install python-dotenv\n",
    "!pip install azure-search-documents\n",
    "!pip install azure-ai-formrecognizer\n",
    "!pip install beautifulsoup4\n",
    "!pip install lxml\n",
    "!pip install azure-ai-textanalytics"
   ]
  },
  {
   "cell_type": "markdown",
   "metadata": {},
   "source": [
    "### Import Packages"
   ]
  },
  {
   "cell_type": "code",
   "execution_count": 1,
   "metadata": {},
   "outputs": [],
   "source": [
    "import os\n",
    "from dotenv import load_dotenv\n",
    "load_dotenv(override=True)\n",
    "\n",
    "import shutil\n",
    "import sys\n",
    "sys.path.append('./utils')\n",
    "\n",
    "### Uncomment below imports as needed -- make sure that all relevant values and keys in the .env file are properly populated\n",
    "# from utils import redis_helpers\n",
    "# from utils import helpers\n",
    "# from utils import language\n",
    "# from utils import openai_helpers\n",
    "# from utils import storage\n",
    "# from utils import bot_helpers\n",
    "\n",
    "%load_ext autoreload\n",
    "%autoreload 2"
   ]
  },
  {
   "attachments": {},
   "cell_type": "markdown",
   "metadata": {},
   "source": [
    "### Activate Cognitive Search Ingestion \n",
    "#### First Run - Create Index and Indexer \n",
    "##### Caution: this will destroy any data you might already have in your index"
   ]
  },
  {
   "cell_type": "code",
   "execution_count": 35,
   "metadata": {},
   "outputs": [
    {
     "name": "stdout",
     "output_type": "stream",
     "text": [
      "Index km-openai-sem Deleted\n",
      "Index km-openai-sem created\n",
      "Index km-openai Deleted\n",
      "Index km-openai created\n",
      "Deleted Skillset - km-openai-skills\n",
      "Created new Skillset - km-openai-skills\n",
      "Deleted Indexer - km-openai-indexer\n",
      "Deleted Data Source - km-openai-skills\n",
      "Created new Data Source Connection - km-openai-docs\n",
      "Created new Indexer - km-openai-indexer\n",
      "Running Indexer km-openai-indexer\n"
     ]
    }
   ],
   "source": [
    "#### Ingest all knowledge base documents\n",
    "from utils import cogsearch_helpers\n",
    "\n",
    "KB_BLOB_CONTAINER = os.environ[\"KB_BLOB_CONTAINER\"]\n",
    "\n",
    "cogsearch_helpers.ingest_kb(container = KB_BLOB_CONTAINER)"
   ]
  },
  {
   "attachments": {},
   "cell_type": "markdown",
   "metadata": {},
   "source": [
    "#### Additional Runs - Re-indexing with delta documents"
   ]
  },
  {
   "cell_type": "code",
   "execution_count": null,
   "metadata": {},
   "outputs": [],
   "source": [
    "### Re-index additional documents\n",
    "cogsearch_helpers.run_indexer()"
   ]
  },
  {
   "attachments": {},
   "cell_type": "markdown",
   "metadata": {},
   "source": [
    "### Activate Form Recognizer Ingestion"
   ]
  },
  {
   "cell_type": "code",
   "execution_count": 6,
   "metadata": {},
   "outputs": [],
   "source": [
    "#### Ingest all form documents\n",
    "\n",
    "from utils import storage\n",
    "from utils import fr_helpers\n",
    "\n",
    "FR_CONTAINER = os.environ['FR_CONTAINER']\n",
    "OUTPUT_BLOB_CONTAINER = os.environ['OUTPUT_BLOB_CONTAINER']\n",
    "\n",
    "\n",
    "fr_helpers.process_forms(in_container = FR_CONTAINER, out_container = OUTPUT_BLOB_CONTAINER)\n",
    "\n"
   ]
  },
  {
   "attachments": {},
   "cell_type": "markdown",
   "metadata": {},
   "source": [
    "### Interrogate the APIs with the sample Knowledge Base"
   ]
  },
  {
   "cell_type": "code",
   "execution_count": 41,
   "metadata": {},
   "outputs": [
    {
     "name": "stdout",
     "output_type": "stream",
     "text": [
      "PROMPT ID 469c00d4-b05f-4644-b16c-26535a8ebb8e\n",
      "\n",
      "looking up: Volcano hotel\n",
      "CogLookup terms: Volcano hotel filter: None\n",
      "pre_context  and cultural center for Nevada.  Las Vegas Hotels  Margie’s Travel offers the  following hotels in Las  Vegas:  The Volcano Hotel  In the heart of The Strip.  Stylish casino hotel with  live entertainment and an  extensive pool area.  The Fountain Hotel  Luxury accommodation in  Las Vegas with a range of  restaurants and cocktail  bars  The Canal Hotel  An opulent Italian-themed  resort with luxurious suite  accommodation.    To book your trip to Las Vegas, visit www.margiestravel.com     .\n",
      "\n",
      "\n",
      "\u001b[1m> Entering new AgentExecutor chain...\u001b[0m\n",
      "\u001b[32;1m\u001b[1;3mI can use the information provided in the initial context to answer this question. I will use Redis Lookup to find information about the Volcano Hotel.\n",
      "\n",
      "Action: \n",
      "\n",
      "Redis Lookup\n",
      "\n",
      "Action Input:\n",
      "\n",
      "\"Volcano Hotel\"\n",
      "\u001b[0m\n",
      "Observation: \u001b[33;1m\u001b[1;3m[https://storageseh2222.blob.core.windows.net/kmoaidemo/Las%20Vegas%20Brochure.pdf?se=2033-03-17T13%3A53%3A11Z&sp=r&sv=2021-12-02&sr=b&sig=OUGbmCyN1w/Q5VFxEU5wxhUfUbkER0N2zKq%2B4II0owg%3D]  and cultural center for Nevada.  Las Vegas Hotels  Margie’s Travel offers the  following hotels in Las  Vegas:  The Volcano Hotel  In the heart of The Strip.  Stylish casino hotel with  live entertainment and an  extensive pool area.  The Fountain Hotel  Luxury accommodation in  Las Vegas with a range of  restaurants and cocktail  bars  The Canal Hotel  An opulent Italian-themed  resort with luxurious suite  accommodation.    To book your trip to Las Vegas, visit www.margiestravel.com     \u001b[0m\n",
      "Thought:\u001b[32;1m\u001b[1;3mThe Volcano Hotel is a stylish casino hotel with live entertainment and an extensive pool area, located in the heart of The Strip in Las Vegas.\n",
      "\n",
      "Final Answer: The Volcano Hotel is a stylish casino hotel with live entertainment and an extensive pool area, located in the heart of The Strip in Las Vegas [https://storageseh2222.blob.core.windows.net/kmoaidemo/Las%20Vegas%20Brochure.pdf?se=2033-03-17T13%3A53%3A11Z&sp=r&sv=2021-12-02&sr=b&sig=OUGbmCyN1w/Q5VFxEU5wxhUfUbkER0N2zKq%2B4II0owg%3D].<|im_end|>\u001b[0m\n",
      "\n",
      "\u001b[1m> Finished chain.\u001b[0m\n",
      "\n",
      "\n",
      " The Volcano Hotel is a stylish casino hotel with live entertainment and an extensive pool area, located in the heart of The Strip in Las Vegas . \n",
      "\n",
      "\n",
      "###############################\n"
     ]
    }
   ],
   "source": [
    "### Use this cell to query Redis with the below queries\n",
    "import json\n",
    "from utils import bot_helpers\n",
    "\n",
    "DAVINCI_003_COMPLETIONS_MODEL = os.environ['DAVINCI_003_COMPLETIONS_MODEL']\n",
    "ADA_002_EMBEDDING_MODEL = os.environ['ADA_002_EMBEDDING_MODEL']\n",
    "\n",
    " \n",
    "queries = [\n",
    "        \"What was mentioned about the Volcano hotel?\"\n",
    "    ]\n",
    "\n",
    "\n",
    "for q in queries:\n",
    "    output = bot_helpers.openai_interrogate_text(q, None, 'orig_lang:en')\n",
    "    output = json.loads(output)\n",
    "    print(\"\\n\\n\", output['answer'], '\\n\\n\\n###############################')\n",
    "    \n"
   ]
  },
  {
   "cell_type": "code",
   "execution_count": 39,
   "metadata": {},
   "outputs": [
    {
     "name": "stdout",
     "output_type": "stream",
     "text": [
      "Deleted Indexer - km-openai-indexer\n",
      "Deleted Data Source - km-openai-skills\n",
      "Created new Data Source Connection - km-openai-docs\n",
      "Created new Indexer - km-openai-indexer\n",
      "Running Indexer km-openai-indexer\n"
     ]
    }
   ],
   "source": [
    "### other containers could be used as the sources of documents to index\n",
    "\n",
    "cogsearch_helpers.create_indexer('kmoaidemo2') \n",
    "cogsearch_helpers.run_indexer()"
   ]
  },
  {
   "attachments": {},
   "cell_type": "markdown",
   "metadata": {},
   "source": [
    "## Experimentation Code Below - NO NEED TO RUN \n",
    "### For your reference only"
   ]
  },
  {
   "cell_type": "code",
   "execution_count": 26,
   "metadata": {},
   "outputs": [],
   "source": [
    "#### Reset Index in Redis\n",
    "from utils import redis_helpers\n",
    "\n",
    "reset_index = True\n",
    "\n",
    "if reset_index:\n",
    "    redis_conn = redis_helpers.get_new_conn()\n",
    "    redis_helpers.redis_reset_index(redis_conn)"
   ]
  },
  {
   "cell_type": "code",
   "execution_count": null,
   "metadata": {},
   "outputs": [],
   "source": [
    "### Use this cell to load embeddings directly into Redis from this notebook\n",
    "\n",
    "import json\n",
    "\n",
    "\n",
    "CHOSEN_EMB_MODEL   = os.environ['CHOSEN_EMB_MODEL']\n",
    "SMALL_EMB_TOKEN_NUM  = int(os.environ['SMALL_EMB_TOKEN_NUM'])\n",
    "MEDIUM_EMB_TOKEN_NUM  = int(os.environ['MEDIUM_EMB_TOKEN_NUM'])\n",
    "LARGE_EMB_TOKEN_NUM  = int(os.environ['LARGE_EMB_TOKEN_NUM'])\n",
    "\n",
    "\n",
    "emb_documents = []\n",
    "\n",
    "\n",
    "for item in os.listdir(\"dump\"):\n",
    "    path = os.path.join(\"dump\", item)\n",
    "\n",
    "    with open(path, 'r') as openfile:\n",
    "        data = json.load(openfile)\n",
    "        \n",
    "    emb_documents += helpers.generate_embeddings(data, CHOSEN_EMB_MODEL, SMALL_EMB_TOKEN_NUM,  text_suffix = 'S')\n",
    "\n",
    "    if MEDIUM_EMB_TOKEN_NUM != 0:\n",
    "        emb_documents += helpers.generate_embeddings(data, CHOSEN_EMB_MODEL, MEDIUM_EMB_TOKEN_NUM, text_suffix = 'M')\n",
    "\n",
    "    if LARGE_EMB_TOKEN_NUM != 0:\n",
    "        emb_documents += helpers.generate_embeddings(data, CHOSEN_EMB_MODEL, LARGE_EMB_TOKEN_NUM,  text_suffix = 'L')\n",
    "\n",
    "\n",
    "helpers.load_embedding_docs_in_redis(emb_documents)"
   ]
  },
  {
   "cell_type": "code",
   "execution_count": null,
   "metadata": {},
   "outputs": [],
   "source": [
    "emb_documents = []\n",
    "\n",
    "emb_documents += helpers.generate_embeddings_from_json_docs('dump', ADA_002_EMBEDDING_MODEL, ADA_002_MODEL_MAX_TOKENS, text_suffix='XL', limit=-1)\n",
    "\n",
    "print(f\"Generated {len(emb_documents)} embeddings.\")\n",
    "helpers.save_embdding_docs_to_pkl(emb_documents, \"test.pkl\")"
   ]
  },
  {
   "cell_type": "code",
   "execution_count": 24,
   "metadata": {},
   "outputs": [
    {
     "name": "stdout",
     "output_type": "stream",
     "text": [
      "Loading 141 embeddings into Redis\n"
     ]
    }
   ],
   "source": [
    "emb_documents = helpers.load_embedding_docs_from_pkl(\"test.pkl\")\n",
    "helpers.load_embedding_docs_in_redis(emb_documents)"
   ]
  },
  {
   "cell_type": "code",
   "execution_count": null,
   "metadata": {},
   "outputs": [],
   "source": [
    "queries = [\n",
    "        \"in which classes did the Danish sailors qualify?\",\n",
    "        \"what are the reviews of the Lost City hotel?\"\n",
    "    ]\n",
    "\n",
    "\n",
    "for q in queries:\n",
    "    output = bot_helpers.openai_interrogate_text(q, DAVINCI_003_COMPLETIONS_MODEL, ADA_002_EMBEDDING_MODEL, 5, False)\n",
    "    print(\"\\n\\n\", output, '\\n\\n\\n###############################')\n",
    "    break\n",
    "\n"
   ]
  }
 ],
 "metadata": {
  "kernelspec": {
   "display_name": "openai",
   "language": "python",
   "name": "python3"
  },
  "language_info": {
   "codemirror_mode": {
    "name": "ipython",
    "version": 3
   },
   "file_extension": ".py",
   "mimetype": "text/x-python",
   "name": "python",
   "nbconvert_exporter": "python",
   "pygments_lexer": "ipython3",
   "version": "3.8.16"
  },
  "orig_nbformat": 4,
  "vscode": {
   "interpreter": {
    "hash": "4cd1745cb8ae6036b9e0c2149eea914cda9394cff45b1c8e288267fc5648a26d"
   }
  }
 },
 "nbformat": 4,
 "nbformat_minor": 2
}
